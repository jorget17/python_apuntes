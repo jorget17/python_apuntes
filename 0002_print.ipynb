{
  "nbformat": 4,
  "nbformat_minor": 0,
  "metadata": {
    "colab": {
      "name": "0002_print.ipynb",
      "provenance": [],
      "collapsed_sections": [],
      "authorship_tag": "ABX9TyOHgNId97cUoTZK8H/ovj27",
      "include_colab_link": true
    },
    "kernelspec": {
      "name": "python3",
      "display_name": "Python 3"
    },
    "language_info": {
      "name": "python"
    }
  },
  "cells": [
    {
      "cell_type": "markdown",
      "metadata": {
        "id": "view-in-github",
        "colab_type": "text"
      },
      "source": [
        "<a href=\"https://colab.research.google.com/github/jorget17/python_apuntes/blob/main/0002_print.ipynb\" target=\"_parent\"><img src=\"https://colab.research.google.com/assets/colab-badge.svg\" alt=\"Open In Colab\"/></a>"
      ]
    },
    {
      "cell_type": "code",
      "metadata": {
        "id": "kb_LYKkkLjIg"
      },
      "source": [
        "# print(*objects, sep=’ ’, end=’\\n’, file=sys.stdout, flush=False)"
      ],
      "execution_count": null,
      "outputs": []
    },
    {
      "cell_type": "code",
      "metadata": {
        "colab": {
          "base_uri": "https://localhost:8080/"
        },
        "id": "gqv2STzXLoh8",
        "outputId": "2a59b22d-eddb-4071-c43b-597ad53aea35"
      },
      "source": [
        "print('Hola, Mundo!')"
      ],
      "execution_count": null,
      "outputs": [
        {
          "output_type": "stream",
          "text": [
            "Hola, Mundo!\n"
          ],
          "name": "stdout"
        }
      ]
    },
    {
      "cell_type": "code",
      "metadata": {
        "colab": {
          "base_uri": "https://localhost:8080/"
        },
        "id": "Vu1eRfNCLqGL",
        "outputId": "c2f42275-8e37-40da-b43d-ddfebfc929ca"
      },
      "source": [
        "# Argumento separador sep='str', se inserta entre los objetos. Por defecto ''\n",
        "\n",
        "print('Hola, Mundo!', 'Hola, Mundo!2', sep='|')"
      ],
      "execution_count": null,
      "outputs": [
        {
          "output_type": "stream",
          "text": [
            "Hola, Mundo!|Hola, Mundo!2\n"
          ],
          "name": "stdout"
        }
      ]
    },
    {
      "cell_type": "code",
      "metadata": {
        "colab": {
          "base_uri": "https://localhost:8080/"
        },
        "id": "jQZmCzXILrtS",
        "outputId": "20f7aaf3-829b-4268-fdc3-c82bf744064a"
      },
      "source": [
        "# Argumento para expecificar el final de la instrucción, end='str'. Por defecto un salto de línea '\\n'\n",
        "\n",
        "print('Hola, Mundo!', end='|')\n",
        "print('Segundo hola mundo')"
      ],
      "execution_count": null,
      "outputs": [
        {
          "output_type": "stream",
          "text": [
            "Hola, Mundo!|Segundo hola mundo\n"
          ],
          "name": "stdout"
        }
      ]
    }
  ]
}