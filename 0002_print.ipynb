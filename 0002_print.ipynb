{
 "cells": [
  {
   "cell_type": "code",
   "execution_count": 1,
   "metadata": {
    "id": "kb_LYKkkLjIg"
   },
   "outputs": [],
   "source": [
    "# print(*objects, sep=’ ’, end=’\\n’, file=sys.stdout, flush=False)"
   ]
  },
  {
   "cell_type": "code",
   "execution_count": 2,
   "metadata": {
    "colab": {
     "base_uri": "https://localhost:8080/"
    },
    "id": "gqv2STzXLoh8",
    "outputId": "2a59b22d-eddb-4071-c43b-597ad53aea35"
   },
   "outputs": [
    {
     "name": "stdout",
     "output_type": "stream",
     "text": [
      "Hola, Mundo!\n"
     ]
    }
   ],
   "source": [
    "print('Hola, Mundo!')"
   ]
  },
  {
   "cell_type": "code",
   "execution_count": 3,
   "metadata": {
    "colab": {
     "base_uri": "https://localhost:8080/"
    },
    "id": "Vu1eRfNCLqGL",
    "outputId": "c2f42275-8e37-40da-b43d-ddfebfc929ca"
   },
   "outputs": [
    {
     "name": "stdout",
     "output_type": "stream",
     "text": [
      "Hola, Mundo!|Hola, Mundo!2\n"
     ]
    }
   ],
   "source": [
    "# Argumento separador sep='str', se inserta entre los objetos. Por defecto ''\n",
    "\n",
    "print('Hola, Mundo!', 'Hola, Mundo!2', sep='|')"
   ]
  },
  {
   "cell_type": "code",
   "execution_count": 4,
   "metadata": {
    "colab": {
     "base_uri": "https://localhost:8080/"
    },
    "id": "jQZmCzXILrtS",
    "outputId": "20f7aaf3-829b-4268-fdc3-c82bf744064a"
   },
   "outputs": [
    {
     "name": "stdout",
     "output_type": "stream",
     "text": [
      "Hola, Mundo!|Segundo hola mundo\n"
     ]
    }
   ],
   "source": [
    "# Argumento para expecificar el final de la instrucción, end='str'. Por defecto un salto de línea '\\n'\n",
    "\n",
    "print('Hola, Mundo!', end='|')\n",
    "print('Segundo hola mundo')"
   ]
  }
 ],
 "metadata": {
  "colab": {
   "authorship_tag": "ABX9TyOHgNId97cUoTZK8H/ovj27",
   "collapsed_sections": [],
   "include_colab_link": true,
   "name": "0002_print.ipynb",
   "provenance": []
  },
  "kernelspec": {
   "display_name": "Python 3",
   "language": "python",
   "name": "python3"
  },
  "language_info": {
   "codemirror_mode": {
    "name": "ipython",
    "version": 3
   },
   "file_extension": ".py",
   "mimetype": "text/x-python",
   "name": "python",
   "nbconvert_exporter": "python",
   "pygments_lexer": "ipython3",
   "version": "3.8.5"
  }
 },
 "nbformat": 4,
 "nbformat_minor": 1
}
