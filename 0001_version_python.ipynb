{
  "nbformat": 4,
  "nbformat_minor": 0,
  "metadata": {
    "colab": {
      "name": "0001_version_python.ipynb",
      "provenance": [],
      "authorship_tag": "ABX9TyOMJzdKCr4fgWwSw3csk+fc",
      "include_colab_link": true
    },
    "kernelspec": {
      "name": "python3",
      "display_name": "Python 3"
    },
    "language_info": {
      "name": "python"
    }
  },
  "cells": [
    {
      "cell_type": "code",
      "metadata": {
        "id": "hS-3eSoBKjU2"
      },
      "source": [
        "# Para obtener la versión de Python en código es necesario importar el módulo sys\n",
        "\n",
        "import sys"
      ],
      "execution_count": null,
      "outputs": []
    },
    {
      "cell_type": "code",
      "metadata": {
        "colab": {
          "base_uri": "https://localhost:8080/",
          "height": 35
        },
        "id": "n5fgD2YzKpXV",
        "outputId": "d75e9d4e-80f6-4d7f-97c2-b8378d903767"
      },
      "source": [
        "# sys.version --> devuelve un string con información sobre la versión del intérprete, entre otras cosas\n",
        "\n",
        "sys.version"
      ],
      "execution_count": null,
      "outputs": [
        {
          "output_type": "execute_result",
          "data": {
            "application/vnd.google.colaboratory.intrinsic+json": {
              "type": "string"
            },
            "text/plain": [
              "'3.7.10 (default, May  3 2021, 02:48:31) \\n[GCC 7.5.0]'"
            ]
          },
          "metadata": {
            "tags": []
          },
          "execution_count": 2
        }
      ]
    },
    {
      "cell_type": "code",
      "metadata": {
        "colab": {
          "base_uri": "https://localhost:8080/"
        },
        "id": "WuAXxMEEKrj7",
        "outputId": "13a8744f-b0b7-473c-af8b-45b2f98d898a"
      },
      "source": [
        "# sys.version_info --> devuelve un tuple con información más detallada\n",
        "\n",
        "sys.version_info"
      ],
      "execution_count": null,
      "outputs": [
        {
          "output_type": "execute_result",
          "data": {
            "text/plain": [
              "sys.version_info(major=3, minor=7, micro=10, releaselevel='final', serial=0)"
            ]
          },
          "metadata": {
            "tags": []
          },
          "execution_count": 3
        }
      ]
    }
  ]
}