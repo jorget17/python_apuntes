{
  "nbformat": 4,
  "nbformat_minor": 0,
  "metadata": {
    "colab": {
      "name": "0001_version_python.ipynb",
      "provenance": [],
      "authorship_tag": "ABX9TyOMJzdKCr4fgWwSw3csk+fc",
      "include_colab_link": true
    },
    "kernelspec": {
      "name": "python3",
      "display_name": "Python 3",
      "language": "python"
    },
    "language_info": {
      "name": "python",
      "version": "3.8.5"
    }
  },
  "cells": [
    {
      "cell_type": "code",
      "metadata": {
        "id": "hS-3eSoBKjU2"
      },
      "source": [
        "# Para obtener la versión de Python en código es necesario importar el módulo sys\n",
        "\n",
        "import sys"
      ],
      "execution_count": 1,
      "outputs": []
    },
    {
      "cell_type": "code",
      "metadata": {
        "colab": {
          "base_uri": "https://localhost:8080/",
          "height": 35
        },
        "id": "n5fgD2YzKpXV",
        "outputId": "d75e9d4e-80f6-4d7f-97c2-b8378d903767"
      },
      "source": [
        "# sys.version --> devuelve un string con información sobre la versión\n",
        "\n",
        "sys.version"
      ],
      "execution_count": 2,
      "outputs": [
        {
          "output_type": "execute_result",
          "data": {
            "text/plain": [
              "'3.8.5 (default, Jan 27 2021, 15:41:15) \\n[GCC 9.3.0]'"
            ]
          },
          "metadata": {},
          "execution_count": 2
        }
      ]
    },
    {
      "cell_type": "code",
      "metadata": {
        "colab": {
          "base_uri": "https://localhost:8080/"
        },
        "id": "WuAXxMEEKrj7",
        "outputId": "13a8744f-b0b7-473c-af8b-45b2f98d898a"
      },
      "source": [
        "# sys.version_info --> devuelve un tuple con información más detallada sobre la versión\n",
        "\n",
        "sys.version_info"
      ],
      "execution_count": 3,
      "outputs": [
        {
          "output_type": "execute_result",
          "data": {
            "text/plain": [
              "sys.version_info(major=3, minor=8, micro=5, releaselevel='final', serial=0)"
            ]
          },
          "metadata": {},
          "execution_count": 3
        }
      ]
    }
  ]
}