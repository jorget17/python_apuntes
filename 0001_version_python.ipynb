{
  "nbformat": 4,
  "nbformat_minor": 5,
  "metadata": {
    "kernelspec": {
      "display_name": "Python 3",
      "language": "python",
      "name": "python3"
    },
    "language_info": {
      "codemirror_mode": {
        "name": "ipython",
        "version": 3
      },
      "file_extension": ".py",
      "mimetype": "text/x-python",
      "name": "python",
      "nbconvert_exporter": "python",
      "pygments_lexer": "ipython3",
      "version": "3.7.3"
    },
    "colab": {
      "name": "0001_version_python.ipynb",
      "provenance": [],
      "collapsed_sections": []
    }
  },
  "cells": [
    {
      "cell_type": "code",
      "metadata": {
        "id": "4603f788"
      },
      "source": [
        "# Para obtener la versión de Python en código es necesario importar el módulo sys\n",
        "\n",
        "import sys"
      ],
      "id": "4603f788",
      "execution_count": null,
      "outputs": []
    },
    {
      "cell_type": "code",
      "metadata": {
        "id": "07035cab",
        "colab": {
          "base_uri": "https://localhost:8080/",
          "height": 35
        },
        "outputId": "5a65252c-f893-47dc-80f1-485a659bd890"
      },
      "source": [
        "# sys.version --> devuelve un string con información sobre la versión del intérprete, entre otras cosas\n",
        "\n",
        "sys.version"
      ],
      "id": "07035cab",
      "execution_count": null,
      "outputs": [
        {
          "output_type": "execute_result",
          "data": {
            "application/vnd.google.colaboratory.intrinsic+json": {
              "type": "string"
            },
            "text/plain": [
              "'3.7.10 (default, May  3 2021, 02:48:31) \\n[GCC 7.5.0]'"
            ]
          },
          "metadata": {
            "tags": []
          },
          "execution_count": 2
        }
      ]
    },
    {
      "cell_type": "code",
      "metadata": {
        "id": "2077f5e4",
        "colab": {
          "base_uri": "https://localhost:8080/"
        },
        "outputId": "4065bd1c-7e9b-43f1-931c-04ad43415be7"
      },
      "source": [
        "# sys.version_info --> devuelve un tuple con información más detallada\n",
        "\n",
        "sys.version_info"
      ],
      "id": "2077f5e4",
      "execution_count": null,
      "outputs": [
        {
          "output_type": "execute_result",
          "data": {
            "text/plain": [
              "sys.version_info(major=3, minor=7, micro=10, releaselevel='final', serial=0)"
            ]
          },
          "metadata": {
            "tags": []
          },
          "execution_count": 3
        }
      ]
    }
  ]
}