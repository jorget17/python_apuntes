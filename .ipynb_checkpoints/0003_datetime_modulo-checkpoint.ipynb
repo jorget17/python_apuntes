{
 "cells": [
  {
   "cell_type": "code",
   "execution_count": 1,
   "metadata": {
    "id": "sx0N-HUztGvX"
   },
   "outputs": [],
   "source": [
    "# Los objetos de date y time pueden ser categorizados como \"aware\" \n",
    "# (incluyen zona horaria, etc y no están sujetos a interpretación)\n",
    "# y \"naive\" (no incluyen zona horaria ni otros elementos y por lo tanto\n",
    "# no tienen información suficiente para situarlos sin ambigüedad\n",
    "# con referencia a otros objetos, como en cualquier programa un 5 podría\n",
    "# representar kilos, gramos o litros, dependiendo del contexto)."
   ]
  },
  {
   "cell_type": "code",
   "execution_count": 2,
   "metadata": {
    "id": "SJ9noghgvyde"
   },
   "outputs": [],
   "source": [
    "import datetime"
   ]
  },
  {
   "cell_type": "markdown",
   "metadata": {
    "id": "QLx9j7QEvdtx"
   },
   "source": [
    "# Constantes"
   ]
  },
  {
   "cell_type": "code",
   "execution_count": 3,
   "metadata": {
    "colab": {
     "base_uri": "https://localhost:8080/"
    },
    "id": "0ElHE232va1v",
    "outputId": "8d8bfef7-023d-49c9-ac6b-11f42d104c3e"
   },
   "outputs": [
    {
     "data": {
      "text/plain": [
       "1"
      ]
     },
     "execution_count": 3,
     "metadata": {},
     "output_type": "execute_result"
    }
   ],
   "source": [
    "# MINYEAR --> el número más pequeño permitido en un objeto date o datetime (1)\n",
    "datetime.MINYEAR"
   ]
  },
  {
   "cell_type": "code",
   "execution_count": 4,
   "metadata": {
    "colab": {
     "base_uri": "https://localhost:8080/"
    },
    "id": "mXmfVB-5v2MY",
    "outputId": "1bf29163-9fe1-46f8-ff56-6dc8b557ce58"
   },
   "outputs": [
    {
     "data": {
      "text/plain": [
       "9999"
      ]
     },
     "execution_count": 4,
     "metadata": {},
     "output_type": "execute_result"
    }
   ],
   "source": [
    "# MAXYEAR --> el número más grande permitido en un objeto date o datetime (9999)\n",
    "datetime.MAXYEAR"
   ]
  },
  {
   "cell_type": "markdown",
   "metadata": {
    "id": "emH8pjh8v-ZC"
   },
   "source": [
    "# Objetos NAIVE"
   ]
  },
  {
   "cell_type": "markdown",
   "metadata": {
    "id": "emH8pjh8v-ZC"
   },
   "source": [
    "## Tipos"
   ]
  },
  {
   "cell_type": "markdown",
   "metadata": {
    "id": "1ED7NU6TwRMq"
   },
   "source": [
    "### date(year, month, day)"
   ]
  },
  {
   "cell_type": "markdown",
   "metadata": {
    "id": "xG4Mlw_PzUbx"
   },
   "source": [
    "##### date: objetos"
   ]
  },
  {
   "cell_type": "code",
   "execution_count": 5,
   "metadata": {
    "colab": {
     "base_uri": "https://localhost:8080/"
    },
    "id": "PH_BVbY5v8No",
    "outputId": "1a49e945-18a8-45d8-dcff-a9de099c6c10"
   },
   "outputs": [
    {
     "name": "stdout",
     "output_type": "stream",
     "text": [
      "2021-03-21\n",
      "2021\n",
      "3\n",
      "21\n"
     ]
    }
   ],
   "source": [
    "# class date --> Almacena una fecha en formato datetime.date(year, month, day)\n",
    "\n",
    "# Acepta 3 argumentos: year, month y day.\n",
    "\n",
    "# year debe ser un int entre MINYEAR y MAXYEAR\n",
    "# month debe ser un int entre 1 y 12\n",
    "# day debe ser un int válido para el atributo month\n",
    "\n",
    "# los int no pueden ser completados con 0s a la izquierda\n",
    "\n",
    "d1 = datetime.date(2021, 3, 21)\n",
    "\n",
    "print(d1)\n",
    "\n",
    "print(d1.year)\n",
    "print(d1.month)\n",
    "print(d1.day)"
   ]
  },
  {
   "cell_type": "code",
   "execution_count": 6,
   "metadata": {
    "colab": {
     "base_uri": "https://localhost:8080/"
    },
    "id": "L3APVuEIwlV-",
    "outputId": "a7e50d90-ab47-4169-dbf5-d752604cd8d5"
   },
   "outputs": [
    {
     "name": "stdout",
     "output_type": "stream",
     "text": [
      "2021-05-17\n"
     ]
    }
   ],
   "source": [
    "# date tiene otros objetos posibles:\n",
    "\n",
    "# today --> devuelve el día actual en formato datetime.date\n",
    "\n",
    "d2 = datetime.date.today()\n",
    "\n",
    "print(d2)"
   ]
  },
  {
   "cell_type": "code",
   "execution_count": 7,
   "metadata": {
    "colab": {
     "base_uri": "https://localhost:8080/"
    },
    "id": "AxAOw-8bxPJi",
    "outputId": "842c9bf1-4579-4449-d3bf-5d746f96887c"
   },
   "outputs": [
    {
     "name": "stdout",
     "output_type": "stream",
     "text": [
      "13\n"
     ]
    }
   ],
   "source": [
    "# fromisoformat(date_string) --> Devuelve un date correspondiente a un string en forma YYYY-MM-DD\n",
    "\n",
    "d3 = datetime.date.fromisoformat('2021-05-13')\n",
    "\n",
    "print(d3.day)"
   ]
  },
  {
   "cell_type": "markdown",
   "metadata": {
    "id": "xG4Mlw_PzUbx"
   },
   "source": [
    "##### date: métodos de instancia"
   ]
  },
  {
   "cell_type": "code",
   "execution_count": 8,
   "metadata": {
    "colab": {
     "base_uri": "https://localhost:8080/"
    },
    "id": "g4mULeiLyGDU",
    "outputId": "18b5daf3-1527-4eff-8fbc-b0e60912c08f"
   },
   "outputs": [
    {
     "name": "stdout",
     "output_type": "stream",
     "text": [
      "2020-05-13\n"
     ]
    }
   ],
   "source": [
    "# date.replace() --> devuelve un date con los mismos valores, excepto los que reciben\n",
    "# nuevos valores (year, month, day)\n",
    "\n",
    "d4 = datetime.date(2021, 5, 13)\n",
    "\n",
    "d4 = d4.replace(year=2020)\n",
    "\n",
    "print(d4)"
   ]
  },
  {
   "cell_type": "code",
   "execution_count": 9,
   "metadata": {
    "colab": {
     "base_uri": "https://localhost:8080/"
    },
    "id": "LgtMKRqBzxr3",
    "outputId": "440a1d6c-8ed5-45ee-d2ba-a769d3a546c1"
   },
   "outputs": [
    {
     "name": "stdout",
     "output_type": "stream",
     "text": [
      "737927\n"
     ]
    }
   ],
   "source": [
    "# date.toordinal(date) --> devuelve el día gregoriano correspondiente, siendo\n",
    "# el 1 de enero del año 1 el día 1.\n",
    "\n",
    "d5 = datetime.date.today()\n",
    "\n",
    "g = datetime.date.toordinal(d5)\n",
    "\n",
    "print(g)"
   ]
  },
  {
   "cell_type": "code",
   "execution_count": 10,
   "metadata": {
    "colab": {
     "base_uri": "https://localhost:8080/"
    },
    "id": "SHBCyhnH1yEA",
    "outputId": "ae21d612-2b81-424a-f745-7a47339e4beb"
   },
   "outputs": [
    {
     "name": "stdout",
     "output_type": "stream",
     "text": [
      "0\n"
     ]
    }
   ],
   "source": [
    "# date.weekday(date) --> devuelve el día de la semana como int, correspondiendo\n",
    "# el 0 al lunes y el 6 al domingo.\n",
    "\n",
    "dw = datetime.date.weekday(d5)\n",
    "\n",
    "print(dw)"
   ]
  },
  {
   "cell_type": "code",
   "execution_count": 11,
   "metadata": {
    "colab": {
     "base_uri": "https://localhost:8080/"
    },
    "id": "RlEwpgd47NaS",
    "outputId": "229d6835-5e78-421b-b5c3-05849839b19f"
   },
   "outputs": [
    {
     "name": "stdout",
     "output_type": "stream",
     "text": [
      "7\n",
      "1\n"
     ]
    }
   ],
   "source": [
    "# date.isoweekday(date) --> devuelve el día de la semana como int, correspondiendo\n",
    "# el 1 al lunes y el 7 al domingo.\n",
    "\n",
    "nacimiento = datetime.date(1973, 7, 15)\n",
    "nacimiento2 = datetime.date(2007, 8, 27)\n",
    "\n",
    "print(nacimiento.isoweekday())\n",
    "print(nacimiento2.isoweekday())"
   ]
  },
  {
   "cell_type": "code",
   "execution_count": 12,
   "metadata": {
    "colab": {
     "base_uri": "https://localhost:8080/"
    },
    "id": "2LanZA2r7iX4",
    "outputId": "0ed1b351-8d8f-42d2-9199-3ff41e5e50d2"
   },
   "outputs": [
    {
     "name": "stdout",
     "output_type": "stream",
     "text": [
      "1973-07-15\n"
     ]
    }
   ],
   "source": [
    "# date.isoformat(date) --> devuelve un string con la fecha especificada en formato YYYY-MM-DD\n",
    "\n",
    "fecha_nacimiento = datetime.date.isoformat(nacimiento)\n",
    "\n",
    "print(fecha_nacimiento)"
   ]
  },
  {
   "cell_type": "code",
   "execution_count": 13,
   "metadata": {
    "colab": {
     "base_uri": "https://localhost:8080/"
    },
    "id": "7YXIIN1p8Iqf",
    "outputId": "e0cd61dc-ddec-4fc9-c7b4-4c9f127582d3"
   },
   "outputs": [
    {
     "name": "stdout",
     "output_type": "stream",
     "text": [
      "Sun Jul 15 00:00:00 1973\n",
      "Sun May 16 00:00:00 2021\n"
     ]
    }
   ],
   "source": [
    "# date.ctime() --> devuelve un string representado el día especificado\n",
    "\n",
    "print(nacimiento.ctime())\n",
    "\n",
    "print(datetime.date(2021, 5, 16).ctime())"
   ]
  },
  {
   "cell_type": "markdown",
   "metadata": {
    "id": "xG4Mlw_PzUbx"
   },
   "source": [
    "##### date: operaciones soportadas"
   ]
  },
  {
   "cell_type": "code",
   "execution_count": 14,
   "metadata": {},
   "outputs": [
    {
     "name": "stdout",
     "output_type": "stream",
     "text": [
      "2021-06-14\n"
     ]
    }
   ],
   "source": [
    "# suma: date2 = date1 + timedelta\n",
    "\n",
    "d7 = datetime.date.today()\n",
    "td1 = datetime.timedelta(days=28)\n",
    "\n",
    "d8 = d7 + td1\n",
    "\n",
    "print(d8)"
   ]
  },
  {
   "cell_type": "code",
   "execution_count": 15,
   "metadata": {},
   "outputs": [
    {
     "name": "stdout",
     "output_type": "stream",
     "text": [
      "2021-04-30\n"
     ]
    }
   ],
   "source": [
    "# resta: date2 = date1 - timedelta\n",
    "\n",
    "d9 = datetime.date.today()\n",
    "td2 = datetime.timedelta(days=17)\n",
    "\n",
    "d10 = d9 - td2\n",
    "\n",
    "print(d10)"
   ]
  },
  {
   "cell_type": "code",
   "execution_count": 16,
   "metadata": {},
   "outputs": [
    {
     "name": "stdout",
     "output_type": "stream",
     "text": [
      "6268 days, 0:00:00\n"
     ]
    }
   ],
   "source": [
    "# timedelta (espacio de tiempo)\n",
    "\n",
    "d11 = datetime.date(2038, 7, 15)\n",
    "hoy = datetime.date.today()\n",
    "\n",
    "td3 = d11 - hoy\n",
    "\n",
    "print(td3)"
   ]
  },
  {
   "cell_type": "code",
   "execution_count": 17,
   "metadata": {},
   "outputs": [
    {
     "name": "stdout",
     "output_type": "stream",
     "text": [
      "True\n"
     ]
    }
   ],
   "source": [
    "# operadores lógicos: un objeto date1 se considera \"menor\" que date2 cuando\n",
    "# date1 precede a date2 en el tiempo\n",
    "\n",
    "dia_d = datetime.date(1944, 6, 6)\n",
    "\n",
    "print(dia_d < hoy)"
   ]
  },
  {
   "cell_type": "markdown",
   "metadata": {
    "id": "1ED7NU6TwRMq"
   },
   "source": [
    "### time(hour, minute, second, microsecond)"
   ]
  },
  {
   "cell_type": "code",
   "execution_count": 19,
   "metadata": {},
   "outputs": [],
   "source": [
    "# time acepta los siguientes argumentos:\n",
    "\n",
    "# hour: 0 <= hour < 24\n",
    "# minute: 0 <= minute < 60\n",
    "# second: 0 <= second < 60\n",
    "# microsecond: 0 <= microsecond < 1000000\n",
    "# fold in [0, 1] --> fold se usa para desambigüar dos objetos time iguales en un intervalo repetido.\n",
    "                    # Un intervalo repetido ocurre cuando los relojes se retrasan una hora el día\n",
    "                    # que se ajusta el horario de verano, repitiendo una hora completa para adelantar\n",
    "                    # el reloj. El valor 0 representa el momento primero de los dos que tienen el mismo\n",
    "                    # valor. El 1 representa el segundo momento. Valor por defecto = None"
   ]
  },
  {
   "cell_type": "markdown",
   "metadata": {
    "id": "xG4Mlw_PzUbx"
   },
   "source": [
    "##### time: objetos"
   ]
  },
  {
   "cell_type": "code",
   "execution_count": 20,
   "metadata": {
    "scrolled": true
   },
   "outputs": [
    {
     "name": "stdout",
     "output_type": "stream",
     "text": [
      "20:18:34\n",
      "20\n",
      "18\n",
      "34\n"
     ]
    }
   ],
   "source": [
    "# class datetime.time(hour, minute, second, microsecond)\n",
    "\n",
    "t1 = datetime.time(20, 18, 34)\n",
    "\n",
    "print(t1)\n",
    "\n",
    "print(t1.hour)\n",
    "print(t1.minute)\n",
    "print(t1.second)"
   ]
  },
  {
   "cell_type": "markdown",
   "metadata": {
    "id": "xG4Mlw_PzUbx"
   },
   "source": [
    "##### time: otros constructores"
   ]
  },
  {
   "cell_type": "code",
   "execution_count": 22,
   "metadata": {},
   "outputs": [
    {
     "name": "stdout",
     "output_type": "stream",
     "text": [
      "21:17:24\n",
      "21\n",
      "17\n",
      "24\n"
     ]
    }
   ],
   "source": [
    "# classmethod time.fromisoformat(time_string) --> devuelve un objeto time de un string tipo '21:17:24'\n",
    "\n",
    "t2 = datetime.time.fromisoformat('21:17:24')\n",
    "\n",
    "print(t2)\n",
    "\n",
    "print(t2.hour)\n",
    "print(t2.minute)\n",
    "print(t2.second)"
   ]
  },
  {
   "cell_type": "markdown",
   "metadata": {
    "id": "xG4Mlw_PzUbx"
   },
   "source": [
    "##### time: métodos de instancia"
   ]
  },
  {
   "cell_type": "code",
   "execution_count": 23,
   "metadata": {},
   "outputs": [
    {
     "name": "stdout",
     "output_type": "stream",
     "text": [
      "18:17:24\n"
     ]
    }
   ],
   "source": [
    "# time.replace(hour, minute, second, microsecond) --> devuelve un objeto time con valores nuevos en los\n",
    "# argumentos especificados, manteniendo iguales los no especificados.\n",
    "\n",
    "t2 = t2.replace(hour=18)\n",
    "\n",
    "print(t2)"
   ]
  },
  {
   "cell_type": "code",
   "execution_count": 30,
   "metadata": {
    "scrolled": true
   },
   "outputs": [
    {
     "name": "stdout",
     "output_type": "stream",
     "text": [
      "17:31:00\n",
      "17:31\n"
     ]
    }
   ],
   "source": [
    "# time.isoformat(timespec='auto') --> devuelve un string representado el tiempo en formato ISO 8601:\n",
    "\n",
    "# HH:MM:SS.ffffff si microsecond no es 0\n",
    "# HH:MM:SS si microsecond es 0\n",
    "\n",
    "# El argumento opcional timespec especifica el número de componentes adicionales del objeto time a\n",
    "# incluir:\n",
    "\n",
    "# - 'auto': igual que 'seconds' si microseconds es 0. Igual que microseconds si no.\n",
    "# - 'hours': incluye hour en formato HH\n",
    "# - 'minutes': incluye hour y minute en formato HH:MM\n",
    "# - 'seconds': incluye hour, minute y second en formato HH:MM:SS\n",
    "# - 'milliseconds': incluye el tiempo completo, pero trunca la parte fraccional de segundos a milisegundos\n",
    "                    # HH:MM:SS.sss\n",
    "# - 'microseconds': incluyeel tiempo completo en formato HH:MM:SS.ffffff\n",
    "\n",
    "t3 = datetime.time(hour=17, minute=31) # al no especificar segundos por defecto equivalen a 0\n",
    "\n",
    "# Al hacer un print, este valor de seconds 00 aparece en el objeto time\n",
    "\n",
    "print(t3)\n",
    "\n",
    "# Para evitarlo se especifica el argumento timespec='minutes' para limitar el número de argumentos\n",
    "# a horas y minutos\n",
    "\n",
    "print(t3.isoformat(timespec='minutes'))"
   ]
  },
  {
   "cell_type": "markdown",
   "metadata": {
    "id": "1ED7NU6TwRMq"
   },
   "source": [
    "### datetime(year, month, day, hour, minute, second, microsecond)"
   ]
  },
  {
   "cell_type": "code",
   "execution_count": 34,
   "metadata": {},
   "outputs": [
    {
     "name": "stdout",
     "output_type": "stream",
     "text": [
      "2021-05-15 19:30:00\n",
      "La representación será el día 15 del 5 a las 19:30.\n"
     ]
    }
   ],
   "source": [
    "# Un objeto datetime es un objeto único que contiene toda la información de los objetos date y time.\n",
    "\n",
    "dia_teatro = datetime.datetime(2021, 5, 15, 19, 30)\n",
    "\n",
    "print(dia_teatro)\n",
    "print(f'La representación será el día {dia_teatro.day} del {dia_teatro.month} a las {dia_teatro.hour}:{dia_teatro.minute}.')"
   ]
  },
  {
   "cell_type": "markdown",
   "metadata": {
    "id": "xG4Mlw_PzUbx"
   },
   "source": [
    "##### datetime: otros constructores"
   ]
  },
  {
   "cell_type": "code",
   "execution_count": 35,
   "metadata": {},
   "outputs": [
    {
     "name": "stdout",
     "output_type": "stream",
     "text": [
      "2021-05-17 09:48:24.954186\n",
      "2021\n",
      "5\n",
      "17\n",
      "9\n",
      "48\n"
     ]
    }
   ],
   "source": [
    "# datetime.datetime.today() --> devuelve el datetime actual con tzinfo None.\n",
    "\n",
    "hoy = datetime.datetime.today()\n",
    "\n",
    "print(hoy)\n",
    "\n",
    "print(hoy.year)\n",
    "print(hoy.month)\n",
    "print(hoy.day)\n",
    "print(hoy.hour)\n",
    "print(hoy.minute)"
   ]
  },
  {
   "cell_type": "code",
   "execution_count": 36,
   "metadata": {},
   "outputs": [
    {
     "name": "stdout",
     "output_type": "stream",
     "text": [
      "2021-05-17 09:54:15.531784\n"
     ]
    }
   ],
   "source": [
    "# datetime.datetime.now(tz=None) --> devuelve el datetime actual pero intenta aportar más precisión que today().\n",
    "# En el caso de que tz se deje como None o no se especifique es equivalente a today().\n",
    "\n",
    "ahora = datetime.datetime.now()\n",
    "\n",
    "print(ahora)\n",
    "\n",
    "# En caso de que tz no sea None debe ser una instancia de la subclase tzinfo."
   ]
  },
  {
   "cell_type": "code",
   "execution_count": 48,
   "metadata": {},
   "outputs": [
    {
     "name": "stdout",
     "output_type": "stream",
     "text": [
      "2021-05-17 10:34:25.577158\n",
      "2021-05-17 08:34:25.577302\n",
      "2021-05-17 08:34:25.577426+00:00\n"
     ]
    }
   ],
   "source": [
    "# datetime.datetime.utcnow() --> equivalente a now() pero devuelve el date y time UTC\n",
    "# como objeto datetime naive. En caso de querer un objeto aware es necesario utilizar now(datetime.timezone.utc)\n",
    "\n",
    "ahora2 = datetime.datetime.now()\n",
    "ahora3 = datetime.datetime.utcnow() # Restará o sumará las horas necesarias para adaptar el objeto a la \n",
    "                                            # zona horaria\n",
    "ahora4 = datetime.datetime.now(datetime.timezone.utc)\n",
    "\n",
    "print(ahora2)\n",
    "print(ahora3)\n",
    "print(ahora4)"
   ]
  },
  {
   "cell_type": "code",
   "execution_count": 49,
   "metadata": {},
   "outputs": [
    {
     "name": "stdout",
     "output_type": "stream",
     "text": [
      "2021-07-15 17:15:00\n"
     ]
    }
   ],
   "source": [
    "# datetime.datetime.fromisoformat(date_string) --> devuelve un objeto datetime de un string en formato\n",
    "# 'YYYY-MM-DD HH:MM:SS.ffffff'\n",
    "\n",
    "dt = datetime.datetime.fromisoformat('2021-07-15 17:15')\n",
    "\n",
    "print(dt)"
   ]
  },
  {
   "cell_type": "markdown",
   "metadata": {
    "id": "xG4Mlw_PzUbx"
   },
   "source": [
    "##### datetime: operaciones soportadas"
   ]
  },
  {
   "cell_type": "code",
   "execution_count": 60,
   "metadata": {
    "scrolled": true
   },
   "outputs": [
    {
     "name": "stdout",
     "output_type": "stream",
     "text": [
      "2021-05-17T10:55\n",
      "2021-05-20T16:20\n",
      "2021-05-14T05:30\n",
      "False\n",
      "True\n"
     ]
    }
   ],
   "source": [
    "# datetime.datetime soporta las mismas operaciones que datetime.date (suma, resta, operadores lógicos...)\n",
    "\n",
    "dt2 = datetime.datetime.today()\n",
    "\n",
    "td3 = datetime.timedelta(days=3, hours=5, minutes=25)\n",
    "\n",
    "dt3 = dt2 + td3\n",
    "dt4 = dt2 - td3\n",
    "\n",
    "print(dt2.isoformat(timespec='minutes'))\n",
    "print(dt3.isoformat(timespec='minutes'))\n",
    "print(dt4.isoformat(timespec='minutes'))\n",
    "\n",
    "print(dt2 < dt4)\n",
    "print(dt2 > dt4)"
   ]
  },
  {
   "cell_type": "markdown",
   "metadata": {
    "id": "xG4Mlw_PzUbx"
   },
   "source": [
    "##### datetime: métodos de instancia"
   ]
  },
  {
   "cell_type": "code",
   "execution_count": 61,
   "metadata": {},
   "outputs": [
    {
     "name": "stdout",
     "output_type": "stream",
     "text": [
      "2021-05-17\n",
      "<class 'datetime.date'>\n"
     ]
    }
   ],
   "source": [
    "# datetime.date() --> devuelve un objeto date() con el mismo year, month y day que el datetime original\n",
    "\n",
    "d24 = dt2.date()\n",
    "\n",
    "print(d24)\n",
    "print(type(d24))"
   ]
  },
  {
   "cell_type": "code",
   "execution_count": 62,
   "metadata": {},
   "outputs": [
    {
     "name": "stdout",
     "output_type": "stream",
     "text": [
      "10:55:55.544102\n",
      "<class 'datetime.time'>\n"
     ]
    }
   ],
   "source": [
    "# datetime.time() --> devuelve un objeto time() con el mismo valor hour, minute, second, microsecond\n",
    "# que el datetime original\n",
    "\n",
    "t17 = dt2.time()\n",
    "\n",
    "print(t17)\n",
    "print(type(t17))"
   ]
  },
  {
   "cell_type": "code",
   "execution_count": 65,
   "metadata": {},
   "outputs": [
    {
     "name": "stdout",
     "output_type": "stream",
     "text": [
      "2021-05-17 10:55:55.544102\n",
      "1978-05-17 10:55:55.544102\n"
     ]
    }
   ],
   "source": [
    "# datetime.replace(year, month, day, hour, minute, second, microsecond) --> devuelve un objeto datetime con\n",
    "# los valores especificados cambiados y los no especificados iguales al original\n",
    "\n",
    "dt25 = dt2.replace(year=1978)\n",
    "\n",
    "print(dt2)\n",
    "print(dt25)"
   ]
  },
  {
   "cell_type": "code",
   "execution_count": null,
   "metadata": {},
   "outputs": [],
   "source": [
    "# datetime.toordinal() --> devuelve el nú"
   ]
  }
 ],
 "metadata": {
  "colab": {
   "authorship_tag": "ABX9TyMbh2ta2ZxG0KR3nY644nuw",
   "collapsed_sections": [],
   "name": "0003_datetime_modulo.ipynb",
   "provenance": []
  },
  "kernelspec": {
   "display_name": "Python 3",
   "language": "python",
   "name": "python3"
  },
  "language_info": {
   "codemirror_mode": {
    "name": "ipython",
    "version": 3
   },
   "file_extension": ".py",
   "mimetype": "text/x-python",
   "name": "python",
   "nbconvert_exporter": "python",
   "pygments_lexer": "ipython3",
   "version": "3.7.3"
  }
 },
 "nbformat": 4,
 "nbformat_minor": 1
}
