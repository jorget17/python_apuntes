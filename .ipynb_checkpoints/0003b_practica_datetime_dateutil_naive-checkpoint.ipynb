{
 "cells": [
  {
   "cell_type": "markdown",
   "id": "7d910d17",
   "metadata": {},
   "source": [
    "Escribe un programa que pasando una fecha en formato YYYY-MM-DD devuelva cuántos días han pasado desde esa fecha."
   ]
  },
  {
   "cell_type": "code",
   "execution_count": 1,
   "id": "6ae199be",
   "metadata": {},
   "outputs": [],
   "source": [
    "from datetime import date, time, datetime, timedelta\n",
    "from dateutil.relativedelta import *\n",
    "from dateutil.rrule import *\n",
    "from dateutil.parser import *"
   ]
  },
  {
   "cell_type": "code",
   "execution_count": 2,
   "id": "974d9c50",
   "metadata": {},
   "outputs": [],
   "source": [
    "def dias(year, month, day):\n",
    "    fecha = datetime(year, month, day)\n",
    "    hoy = datetime.today()\n",
    "\n",
    "    \n",
    "    dias_desde_fecha = hoy - fecha\n",
    "    \n",
    "    print(f'Han pasado {dias_desde_fecha.days} días desde la fecha indicada.')\n",
    "    "
   ]
  },
  {
   "cell_type": "code",
   "execution_count": 4,
   "id": "9602cc98",
   "metadata": {},
   "outputs": [
    {
     "name": "stdout",
     "output_type": "stream",
     "text": [
      "Han pasado 26731 días desde la fecha indicada.\n"
     ]
    }
   ],
   "source": [
    "dias(1948, 3, 14)"
   ]
  },
  {
   "cell_type": "code",
   "execution_count": null,
   "id": "d96a2d13",
   "metadata": {},
   "outputs": [],
   "source": []
  }
 ],
 "metadata": {
  "kernelspec": {
   "display_name": "Python 3",
   "language": "python",
   "name": "python3"
  },
  "language_info": {
   "codemirror_mode": {
    "name": "ipython",
    "version": 3
   },
   "file_extension": ".py",
   "mimetype": "text/x-python",
   "name": "python",
   "nbconvert_exporter": "python",
   "pygments_lexer": "ipython3",
   "version": "3.7.3"
  }
 },
 "nbformat": 4,
 "nbformat_minor": 5
}
