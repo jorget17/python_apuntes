{
 "cells": [
  {
   "cell_type": "markdown",
   "id": "7d910d17",
   "metadata": {},
   "source": [
    "Escribe un programa que pregunte la fecha de nacimiento al usuario.\n",
    "\n",
    "El programa le dirá al usuario cuántos días han pasado desde que nació, cuántos quedan para su próximo cumpleaños y el día de la semana en que caerá.\n",
    "\n",
    "Después preguntará cúantos años quiere saber en qué día de la semana caerán sus próximos cumpleaños y los listará: (miércoles, jueves, sábado, domingo...). Se valorará si esta información se da en castellano."
   ]
  },
  {
   "cell_type": "code",
   "execution_count": 11,
   "id": "6ae199be",
   "metadata": {},
   "outputs": [],
   "source": [
    "from datetime import date, time, datetime, timedelta\n",
    "from dateutil.relativedelta import relativedelta\n",
    "from dateutil.rrule import rrule\n",
    "from dateutil.parser import parse"
   ]
  },
  {
   "cell_type": "code",
   "execution_count": 12,
   "id": "bfa5a3ae",
   "metadata": {},
   "outputs": [
    {
     "name": "stdout",
     "output_type": "stream",
     "text": [
      "Introduce tu fecha de nacimiento en formato AAAA-MM-DD: 1973-7-15\n"
     ]
    },
    {
     "ename": "TypeError",
     "evalue": "unsupported type for timedelta days component: datetime.timedelta",
     "output_type": "error",
     "traceback": [
      "\u001b[0;31m---------------------------------------------------------------------------\u001b[0m",
      "\u001b[0;31mTypeError\u001b[0m                                 Traceback (most recent call last)",
      "\u001b[0;32m<ipython-input-12-dff44f79f796>\u001b[0m in \u001b[0;36m<module>\u001b[0;34m\u001b[0m\n\u001b[1;32m      1\u001b[0m \u001b[0mfecha_nac\u001b[0m \u001b[0;34m=\u001b[0m \u001b[0minput\u001b[0m\u001b[0;34m(\u001b[0m\u001b[0;34m'Introduce tu fecha de nacimiento en formato AAAA-MM-DD: '\u001b[0m\u001b[0;34m)\u001b[0m\u001b[0;34m\u001b[0m\u001b[0;34m\u001b[0m\u001b[0m\n\u001b[1;32m      2\u001b[0m \u001b[0;34m\u001b[0m\u001b[0m\n\u001b[0;32m----> 3\u001b[0;31m \u001b[0mdias_ht_cumple\u001b[0m \u001b[0;34m=\u001b[0m \u001b[0mtimedelta\u001b[0m\u001b[0;34m(\u001b[0m\u001b[0mdatetime\u001b[0m\u001b[0;34m.\u001b[0m\u001b[0mtoday\u001b[0m\u001b[0;34m(\u001b[0m\u001b[0;34m)\u001b[0m \u001b[0;34m-\u001b[0m \u001b[0mparse\u001b[0m\u001b[0;34m(\u001b[0m\u001b[0mfecha_nac\u001b[0m\u001b[0;34m)\u001b[0m\u001b[0;34m)\u001b[0m\u001b[0;34m\u001b[0m\u001b[0;34m\u001b[0m\u001b[0m\n\u001b[0m\u001b[1;32m      4\u001b[0m \u001b[0;34m\u001b[0m\u001b[0m\n\u001b[1;32m      5\u001b[0m \u001b[0mdias_ht_cumple\u001b[0m\u001b[0;34m\u001b[0m\u001b[0;34m\u001b[0m\u001b[0m\n",
      "\u001b[0;31mTypeError\u001b[0m: unsupported type for timedelta days component: datetime.timedelta"
     ]
    }
   ],
   "source": [
    "fecha_nac = input('Introduce tu fecha de nacimiento en formato AAAA-MM-DD: ')\n",
    "\n",
    "dias_ht_cumple = timedelta(datetime.today() - parse(fecha_nac))\n",
    "\n",
    "dias_ht_cumple"
   ]
  },
  {
   "cell_type": "code",
   "execution_count": null,
   "id": "6d971577",
   "metadata": {},
   "outputs": [],
   "source": []
  }
 ],
 "metadata": {
  "kernelspec": {
   "display_name": "Python 3",
   "language": "python",
   "name": "python3"
  },
  "language_info": {
   "codemirror_mode": {
    "name": "ipython",
    "version": 3
   },
   "file_extension": ".py",
   "mimetype": "text/x-python",
   "name": "python",
   "nbconvert_exporter": "python",
   "pygments_lexer": "ipython3",
   "version": "3.7.3"
  }
 },
 "nbformat": 4,
 "nbformat_minor": 5
}
