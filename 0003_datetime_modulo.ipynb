{
  "nbformat": 4,
  "nbformat_minor": 0,
  "metadata": {
    "colab": {
      "name": "0003_datetime_modulo.ipynb",
      "provenance": [],
      "collapsed_sections": [],
      "authorship_tag": "ABX9TyMbh2ta2ZxG0KR3nY644nuw"
    },
    "kernelspec": {
      "name": "python3",
      "display_name": "Python 3"
    },
    "language_info": {
      "name": "python"
    }
  },
  "cells": [
    {
      "cell_type": "code",
      "metadata": {
        "id": "sx0N-HUztGvX"
      },
      "source": [
        "# Los objetos de date y time pueden ser categorizados como \"aware\" (incluyen zona horaria, etc y no están sujetos a interpretación)\n",
        "# y \"naive\" (no incluyen zona horaria ni otros elementos y por lo tanto no tienen información suficiente para situarlos sin ambigüedad\n",
        "# con referencia a otros objetos, como en cualquier programa un 5 podría representar kilos, gramos o litros, dependiendo del contexto)."
      ],
      "execution_count": 1,
      "outputs": []
    },
    {
      "cell_type": "code",
      "metadata": {
        "id": "SJ9noghgvyde"
      },
      "source": [
        "import datetime"
      ],
      "execution_count": 2,
      "outputs": []
    },
    {
      "cell_type": "markdown",
      "metadata": {
        "id": "QLx9j7QEvdtx"
      },
      "source": [
        "# Constantes"
      ]
    },
    {
      "cell_type": "code",
      "metadata": {
        "colab": {
          "base_uri": "https://localhost:8080/"
        },
        "id": "0ElHE232va1v",
        "outputId": "8d8bfef7-023d-49c9-ac6b-11f42d104c3e"
      },
      "source": [
        "# MINYEAR --> el número más pequeño permitido en un objeto date o datetime (1)\n",
        "datetime.MINYEAR"
      ],
      "execution_count": 3,
      "outputs": [
        {
          "output_type": "execute_result",
          "data": {
            "text/plain": [
              "1"
            ]
          },
          "metadata": {
            "tags": []
          },
          "execution_count": 3
        }
      ]
    },
    {
      "cell_type": "code",
      "metadata": {
        "colab": {
          "base_uri": "https://localhost:8080/"
        },
        "id": "mXmfVB-5v2MY",
        "outputId": "1bf29163-9fe1-46f8-ff56-6dc8b557ce58"
      },
      "source": [
        "# MAXYEAR --> el número más grande permitido en un objeto date o datetime (9999)\n",
        "datetime.MAXYEAR"
      ],
      "execution_count": 4,
      "outputs": [
        {
          "output_type": "execute_result",
          "data": {
            "text/plain": [
              "9999"
            ]
          },
          "metadata": {
            "tags": []
          },
          "execution_count": 4
        }
      ]
    },
    {
      "cell_type": "markdown",
      "metadata": {
        "id": "emH8pjh8v-ZC"
      },
      "source": [
        "# Tipos"
      ]
    },
    {
      "cell_type": "markdown",
      "metadata": {
        "id": "1ED7NU6TwRMq"
      },
      "source": [
        "#### date(year, month, day)"
      ]
    },
    {
      "cell_type": "code",
      "metadata": {
        "colab": {
          "base_uri": "https://localhost:8080/"
        },
        "id": "PH_BVbY5v8No",
        "outputId": "1a49e945-18a8-45d8-dcff-a9de099c6c10"
      },
      "source": [
        "# class date --> Almacena una fecha en formato datetime.date(year, month, day)\n",
        "\n",
        "# year debe estar entre MINYEAR y MAXYEAR\n",
        "# month debe ser un int entre 1 y 12\n",
        "# day debe ser un día válido para ese month\n",
        "\n",
        "d1 = datetime.date(2021, 3, 21)\n",
        "\n",
        "print(d1)\n",
        "\n",
        "print(d1.year)\n",
        "print(d1.month)\n",
        "print(d1.day)"
      ],
      "execution_count": 10,
      "outputs": [
        {
          "output_type": "stream",
          "text": [
            "2021-03-21\n",
            "2021\n",
            "3\n",
            "21\n"
          ],
          "name": "stdout"
        }
      ]
    },
    {
      "cell_type": "code",
      "metadata": {
        "colab": {
          "base_uri": "https://localhost:8080/"
        },
        "id": "L3APVuEIwlV-",
        "outputId": "a7e50d90-ab47-4169-dbf5-d752604cd8d5"
      },
      "source": [
        "# date tiene otros objetos posibles:\n",
        "\n",
        "# today --> devuelve el día actual en formato datetime.date\n",
        "\n",
        "d2 = datetime.date.today()\n",
        "\n",
        "print(d2)"
      ],
      "execution_count": 11,
      "outputs": [
        {
          "output_type": "stream",
          "text": [
            "2021-05-16\n"
          ],
          "name": "stdout"
        }
      ]
    },
    {
      "cell_type": "code",
      "metadata": {
        "colab": {
          "base_uri": "https://localhost:8080/"
        },
        "id": "AxAOw-8bxPJi",
        "outputId": "842c9bf1-4579-4449-d3bf-5d746f96887c"
      },
      "source": [
        "# fromisoformat(date_string) --> Devuelve un date correspondiente a un string en forma YYYY-MM-DD\n",
        "\n",
        "d3 = datetime.date.fromisoformat('2021-05-13')\n",
        "\n",
        "print(d3.day)"
      ],
      "execution_count": 12,
      "outputs": [
        {
          "output_type": "stream",
          "text": [
            "13\n"
          ],
          "name": "stdout"
        }
      ]
    },
    {
      "cell_type": "markdown",
      "metadata": {
        "id": "xG4Mlw_PzUbx"
      },
      "source": [
        "##### date métodos de instancia"
      ]
    },
    {
      "cell_type": "code",
      "metadata": {
        "colab": {
          "base_uri": "https://localhost:8080/"
        },
        "id": "g4mULeiLyGDU",
        "outputId": "18b5daf3-1527-4eff-8fbc-b0e60912c08f"
      },
      "source": [
        "# date.replace() --> devuelve un date con los mismos valores, excepto los que reciben nuevos valores (year, month, day)\n",
        "\n",
        "d4 = datetime.date(2021, 5, 13)\n",
        "\n",
        "d4 = d4.replace(year=2020)\n",
        "\n",
        "print(d4)"
      ],
      "execution_count": 15,
      "outputs": [
        {
          "output_type": "stream",
          "text": [
            "2020-05-13\n"
          ],
          "name": "stdout"
        }
      ]
    },
    {
      "cell_type": "code",
      "metadata": {
        "colab": {
          "base_uri": "https://localhost:8080/"
        },
        "id": "LgtMKRqBzxr3",
        "outputId": "440a1d6c-8ed5-45ee-d2ba-a769d3a546c1"
      },
      "source": [
        "# date.toordinal(date) --> devuelve el día gregoriano correspondiente, siendo el 1 de enero del año 1 el día 1.\n",
        "\n",
        "d5 = datetime.date.today()\n",
        "\n",
        "g = datetime.date.toordinal(d5)\n",
        "\n",
        "print(g)"
      ],
      "execution_count": 17,
      "outputs": [
        {
          "output_type": "stream",
          "text": [
            "737926\n"
          ],
          "name": "stdout"
        }
      ]
    },
    {
      "cell_type": "code",
      "metadata": {
        "colab": {
          "base_uri": "https://localhost:8080/"
        },
        "id": "SHBCyhnH1yEA",
        "outputId": "ae21d612-2b81-424a-f745-7a47339e4beb"
      },
      "source": [
        "# date.weekday(date) --> devuelve el día de la semana como int, correspondiendo el 0 al lunes y el 6 al domingo.\n",
        "\n",
        "dw = datetime.date.weekday(d5)\n",
        "\n",
        "print(dw)"
      ],
      "execution_count": 18,
      "outputs": [
        {
          "output_type": "stream",
          "text": [
            "6\n"
          ],
          "name": "stdout"
        }
      ]
    },
    {
      "cell_type": "code",
      "metadata": {
        "colab": {
          "base_uri": "https://localhost:8080/"
        },
        "id": "RlEwpgd47NaS",
        "outputId": "229d6835-5e78-421b-b5c3-05849839b19f"
      },
      "source": [
        "# date.isoweekday(date) --> devuelve el día de la semana como int, correspondiendo el 1 al lunes y el 7 al domingo.\n",
        "\n",
        "nacimiento = datetime.date(1973, 7, 15)\n",
        "nacimiento2 = datetime.date(2007, 8, 27)\n",
        "\n",
        "print(nacimiento.isoweekday())\n",
        "print(nacimiento2.isoweekday())"
      ],
      "execution_count": 20,
      "outputs": [
        {
          "output_type": "stream",
          "text": [
            "7\n",
            "1\n"
          ],
          "name": "stdout"
        }
      ]
    },
    {
      "cell_type": "code",
      "metadata": {
        "colab": {
          "base_uri": "https://localhost:8080/"
        },
        "id": "2LanZA2r7iX4",
        "outputId": "0ed1b351-8d8f-42d2-9199-3ff41e5e50d2"
      },
      "source": [
        "# date.isoformat(date) --> devuelve un string con la fecha especificada en formato YYYY-MM-DD\n",
        "\n",
        "fecha_nacimiento = datetime.date.isoformat(nacimiento)\n",
        "\n",
        "print(fecha_nacimiento)"
      ],
      "execution_count": 22,
      "outputs": [
        {
          "output_type": "stream",
          "text": [
            "1973-07-15\n"
          ],
          "name": "stdout"
        }
      ]
    },
    {
      "cell_type": "code",
      "metadata": {
        "colab": {
          "base_uri": "https://localhost:8080/"
        },
        "id": "7YXIIN1p8Iqf",
        "outputId": "e0cd61dc-ddec-4fc9-c7b4-4c9f127582d3"
      },
      "source": [
        "# date.ctime() --> devuelve un string representado el día especificado\n",
        "\n",
        "print(nacimiento.ctime())\n",
        "\n",
        "print(datetime.date(2021, 5, 16).ctime())"
      ],
      "execution_count": 25,
      "outputs": [
        {
          "output_type": "stream",
          "text": [
            "Sun Jul 15 00:00:00 1973\n",
            "Sun May 16 00:00:00 2021\n"
          ],
          "name": "stdout"
        }
      ]
    },
    {
      "cell_type": "code",
      "metadata": {
        "id": "bumIHR8r8lct"
      },
      "source": [
        ""
      ],
      "execution_count": null,
      "outputs": []
    }
  ]
}